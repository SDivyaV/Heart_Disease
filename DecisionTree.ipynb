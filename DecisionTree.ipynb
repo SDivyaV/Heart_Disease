{
 "cells": [
  {
   "cell_type": "code",
   "execution_count": 1,
   "id": "9c4c9959-9343-443f-a52c-b0fcee80f2a8",
   "metadata": {},
   "outputs": [],
   "source": [
    "import pandas as pd\n",
    "import numpy as np\n",
    "from sklearn.model_selection import train_test_split\n",
    "from sklearn.preprocessing import StandardScaler\n",
    "from sklearn.metrics import confusion_matrix,accuracy_score,roc_curve,classification_report\n",
    "from sklearn.tree import DecisionTreeClassifier\n",
    "from sklearn.metrics import roc_curve, auc\n",
    "import matplotlib.pyplot as plt\n",
    "import pickle\n",
    "import joblib"
   ]
  },
  {
   "cell_type": "code",
   "execution_count": 2,
   "id": "566887ae-8dbe-4bfb-9599-7c1e96f46701",
   "metadata": {},
   "outputs": [
    {
     "data": {
      "text/plain": [
       "(1000, 14)"
      ]
     },
     "execution_count": 2,
     "metadata": {},
     "output_type": "execute_result"
    }
   ],
   "source": [
    "data = pd.read_csv(\"../data/heart.csv\")\n",
    "data.shape"
   ]
  },
  {
   "cell_type": "code",
   "execution_count": 3,
   "id": "2051bc02-49f0-411c-a0b8-eeb59624ad77",
   "metadata": {},
   "outputs": [
    {
     "data": {
      "text/html": [
       "<div>\n",
       "<style scoped>\n",
       "    .dataframe tbody tr th:only-of-type {\n",
       "        vertical-align: middle;\n",
       "    }\n",
       "\n",
       "    .dataframe tbody tr th {\n",
       "        vertical-align: top;\n",
       "    }\n",
       "\n",
       "    .dataframe thead th {\n",
       "        text-align: right;\n",
       "    }\n",
       "</style>\n",
       "<table border=\"1\" class=\"dataframe\">\n",
       "  <thead>\n",
       "    <tr style=\"text-align: right;\">\n",
       "      <th></th>\n",
       "      <th>patientid</th>\n",
       "      <th>age</th>\n",
       "      <th>gender</th>\n",
       "      <th>chestpain</th>\n",
       "      <th>restingBP</th>\n",
       "      <th>serumcholestrol</th>\n",
       "      <th>fastingbloodsugar</th>\n",
       "      <th>restingrelectro</th>\n",
       "      <th>maxheartrate</th>\n",
       "      <th>exerciseangia</th>\n",
       "      <th>oldpeak</th>\n",
       "      <th>slope</th>\n",
       "      <th>noofmajorvessels</th>\n",
       "      <th>target</th>\n",
       "    </tr>\n",
       "  </thead>\n",
       "  <tbody>\n",
       "    <tr>\n",
       "      <th>0</th>\n",
       "      <td>103368</td>\n",
       "      <td>53</td>\n",
       "      <td>1</td>\n",
       "      <td>2</td>\n",
       "      <td>171</td>\n",
       "      <td>0</td>\n",
       "      <td>0</td>\n",
       "      <td>1</td>\n",
       "      <td>147</td>\n",
       "      <td>0</td>\n",
       "      <td>5.3</td>\n",
       "      <td>3</td>\n",
       "      <td>3</td>\n",
       "      <td>1</td>\n",
       "    </tr>\n",
       "    <tr>\n",
       "      <th>1</th>\n",
       "      <td>119250</td>\n",
       "      <td>40</td>\n",
       "      <td>1</td>\n",
       "      <td>0</td>\n",
       "      <td>94</td>\n",
       "      <td>229</td>\n",
       "      <td>0</td>\n",
       "      <td>1</td>\n",
       "      <td>115</td>\n",
       "      <td>0</td>\n",
       "      <td>3.7</td>\n",
       "      <td>1</td>\n",
       "      <td>1</td>\n",
       "      <td>0</td>\n",
       "    </tr>\n",
       "    <tr>\n",
       "      <th>2</th>\n",
       "      <td>119372</td>\n",
       "      <td>49</td>\n",
       "      <td>1</td>\n",
       "      <td>2</td>\n",
       "      <td>133</td>\n",
       "      <td>142</td>\n",
       "      <td>0</td>\n",
       "      <td>0</td>\n",
       "      <td>202</td>\n",
       "      <td>1</td>\n",
       "      <td>5.0</td>\n",
       "      <td>1</td>\n",
       "      <td>0</td>\n",
       "      <td>0</td>\n",
       "    </tr>\n",
       "    <tr>\n",
       "      <th>3</th>\n",
       "      <td>132514</td>\n",
       "      <td>43</td>\n",
       "      <td>1</td>\n",
       "      <td>0</td>\n",
       "      <td>138</td>\n",
       "      <td>295</td>\n",
       "      <td>1</td>\n",
       "      <td>1</td>\n",
       "      <td>153</td>\n",
       "      <td>0</td>\n",
       "      <td>3.2</td>\n",
       "      <td>2</td>\n",
       "      <td>2</td>\n",
       "      <td>1</td>\n",
       "    </tr>\n",
       "    <tr>\n",
       "      <th>4</th>\n",
       "      <td>146211</td>\n",
       "      <td>31</td>\n",
       "      <td>1</td>\n",
       "      <td>1</td>\n",
       "      <td>199</td>\n",
       "      <td>0</td>\n",
       "      <td>0</td>\n",
       "      <td>2</td>\n",
       "      <td>136</td>\n",
       "      <td>0</td>\n",
       "      <td>5.3</td>\n",
       "      <td>3</td>\n",
       "      <td>2</td>\n",
       "      <td>1</td>\n",
       "    </tr>\n",
       "  </tbody>\n",
       "</table>\n",
       "</div>"
      ],
      "text/plain": [
       "   patientid  age  gender  chestpain  restingBP  serumcholestrol  \\\n",
       "0     103368   53       1          2        171                0   \n",
       "1     119250   40       1          0         94              229   \n",
       "2     119372   49       1          2        133              142   \n",
       "3     132514   43       1          0        138              295   \n",
       "4     146211   31       1          1        199                0   \n",
       "\n",
       "   fastingbloodsugar  restingrelectro  maxheartrate  exerciseangia  oldpeak  \\\n",
       "0                  0                1           147              0      5.3   \n",
       "1                  0                1           115              0      3.7   \n",
       "2                  0                0           202              1      5.0   \n",
       "3                  1                1           153              0      3.2   \n",
       "4                  0                2           136              0      5.3   \n",
       "\n",
       "   slope  noofmajorvessels  target  \n",
       "0      3                 3       1  \n",
       "1      1                 1       0  \n",
       "2      1                 0       0  \n",
       "3      2                 2       1  \n",
       "4      3                 2       1  "
      ]
     },
     "execution_count": 3,
     "metadata": {},
     "output_type": "execute_result"
    }
   ],
   "source": [
    "data.head()"
   ]
  },
  {
   "cell_type": "code",
   "execution_count": 4,
   "id": "512cf14c-5eb3-4f92-939a-596a5ce5f007",
   "metadata": {},
   "outputs": [],
   "source": [
    "y = data[\"target\"]\n",
    "X = data.drop(columns=['patientid','target'])\n",
    "X_train, X_test, y_train, y_test = train_test_split(X, y, test_size=0.20, random_state = 0)"
   ]
  },
  {
   "cell_type": "code",
   "execution_count": 5,
   "id": "6256c9a5-4d6e-401c-81a6-9ec2df9795a0",
   "metadata": {},
   "outputs": [
    {
     "data": {
      "text/plain": [
       "(800, 200)"
      ]
     },
     "execution_count": 5,
     "metadata": {},
     "output_type": "execute_result"
    }
   ],
   "source": [
    "len(X_train), len(X_test)"
   ]
  },
  {
   "cell_type": "code",
   "execution_count": 6,
   "id": "cb77decc-d739-4c83-bb96-84a7c4df804e",
   "metadata": {},
   "outputs": [],
   "source": [
    "scaler = StandardScaler()\n",
    "X_train = scaler.fit_transform(X_train)\n",
    "X_test = scaler.transform(X_test)"
   ]
  },
  {
   "cell_type": "code",
   "execution_count": 7,
   "id": "660dacaf",
   "metadata": {},
   "outputs": [
    {
     "data": {
      "text/plain": [
       "(800, 12)"
      ]
     },
     "execution_count": 7,
     "metadata": {},
     "output_type": "execute_result"
    }
   ],
   "source": [
    "X_train.shape"
   ]
  },
  {
   "cell_type": "code",
   "execution_count": 8,
   "id": "d407eb07-e51e-4477-87c9-7089bcb29921",
   "metadata": {},
   "outputs": [
    {
     "data": {
      "text/plain": [
       "array([4.9766250e+01, 7.6875000e-01, 1.0075000e+00, 1.5193750e+02,\n",
       "       3.1404625e+02, 3.1250000e-01, 7.5000000e-01, 1.4558625e+02,\n",
       "       5.0875000e-01, 2.7481250e+00, 1.5600000e+00, 1.2412500e+00])"
      ]
     },
     "execution_count": 8,
     "metadata": {},
     "output_type": "execute_result"
    }
   ],
   "source": [
    "scaler.mean_"
   ]
  },
  {
   "cell_type": "code",
   "execution_count": 9,
   "id": "f89bf786-3f4c-42ab-a6dd-7aa6763ac557",
   "metadata": {},
   "outputs": [
    {
     "data": {
      "text/plain": [
       "(-1.6725143415733175,\n",
       " 1.6987823617198097,\n",
       " -1.0532897487880573,\n",
       " 2.08305689772725)"
      ]
     },
     "execution_count": 9,
     "metadata": {},
     "output_type": "execute_result"
    }
   ],
   "source": [
    "X_train[:, 0].min(), X_train[:, 0].max(), X_train[:, 2].min(), X_train[:, 2].max()"
   ]
  },
  {
   "cell_type": "code",
   "execution_count": 10,
   "id": "6f90af91-5c15-465a-827c-2569514a7e3a",
   "metadata": {},
   "outputs": [
    {
     "data": {
      "text/plain": [
       "array([ 0.40645196, -1.82327297, -1.05328975,  0.93522777,  1.53631292,\n",
       "       -0.67419986,  0.32547228,  1.35413438, -1.01765584, -0.49016407,\n",
       "        1.43899306,  1.79450419])"
      ]
     },
     "execution_count": 10,
     "metadata": {},
     "output_type": "execute_result"
    }
   ],
   "source": [
    "X_train[0]"
   ]
  },
  {
   "cell_type": "code",
   "execution_count": 11,
   "id": "d75031b2-4a93-41f2-a05e-74021719aeaa",
   "metadata": {},
   "outputs": [
    {
     "name": "stdout",
     "output_type": "stream",
     "text": [
      "confussion matrix\n",
      "[[ 89   6]\n",
      " [  1 104]]\n",
      "\n",
      "\n",
      "Accuracy of DecisionTreeClassifier: 96.5 \n",
      "\n",
      "              precision    recall  f1-score   support\n",
      "\n",
      "           0       0.99      0.94      0.96        95\n",
      "           1       0.95      0.99      0.97       105\n",
      "\n",
      "    accuracy                           0.96       200\n",
      "   macro avg       0.97      0.96      0.96       200\n",
      "weighted avg       0.97      0.96      0.96       200\n",
      "\n"
     ]
    }
   ],
   "source": [
    "dt = DecisionTreeClassifier(criterion = 'entropy',random_state=0,max_depth = 6)\n",
    "dt.fit(X_train, y_train)\n",
    "dt_predicted = dt.predict(X_test)\n",
    "dt_conf_matrix = confusion_matrix(y_test, dt_predicted)\n",
    "dt_acc_score = accuracy_score(y_test, dt_predicted)\n",
    "print(\"confussion matrix\")\n",
    "print(dt_conf_matrix)\n",
    "print(\"\\n\")\n",
    "print(\"Accuracy of DecisionTreeClassifier:\",dt_acc_score*100,'\\n')\n",
    "print(classification_report(y_test,dt_predicted))"
   ]
  },
  {
   "cell_type": "code",
   "execution_count": 15,
   "id": "7dbb4145",
   "metadata": {},
   "outputs": [
    {
     "name": "stdout",
     "output_type": "stream",
     "text": [
      "Model Accuracy Score: 95.50 %\n",
      "Std. Dev: 2.25 %\n"
     ]
    }
   ],
   "source": [
    "from sklearn.model_selection import cross_val_score\n",
    "val_score = cross_val_score(estimator=dt, X = X_train, y=y_train, cv=10)\n",
    "print(\"Model Accuracy Score: {:.2f} %\".format(val_score.mean()*100))\n",
    "print(\"Std. Dev: {:.2f} %\".format(val_score.std()*100))"
   ]
  },
  {
   "cell_type": "code",
   "execution_count": 13,
   "id": "75eab828",
   "metadata": {},
   "outputs": [
    {
     "name": "stdout",
     "output_type": "stream",
     "text": [
      "Best Parameters: {'criterion': 'gini', 'max_depth': None, 'min_samples_leaf': 1, 'min_samples_split': 2}\n",
      "Best Score (accuracy): 0.9549999999999998\n"
     ]
    }
   ],
   "source": [
    "from sklearn.model_selection import GridSearchCV\n",
    "# Define the Decision Tree model\n",
    "dt = DecisionTreeClassifier(random_state=0)\n",
    "\n",
    "# Define the hyperparameters grid for tuning\n",
    "param_grid = {\n",
    "    'criterion': ['gini', 'entropy'],      # Criterion for information gain calculation\n",
    "    'max_depth': [None, 5, 10, 20],        # Maximum depth of the tree\n",
    "    'min_samples_split': [2, 5, 10],       # Minimum number of samples required to split a node\n",
    "    'min_samples_leaf': [1, 2, 4]          # Minimum number of samples required at each leaf node\n",
    "}\n",
    "\n",
    "# Perform Grid Search with 10-fold cross-validation\n",
    "grid_search = GridSearchCV(estimator=dt, param_grid=param_grid, cv=10, scoring='accuracy')\n",
    "grid_search.fit(X_train, y_train)\n",
    "\n",
    "# Best parameters and best score found\n",
    "best_params = grid_search.best_params_\n",
    "best_score = grid_search.best_score_\n",
    "\n",
    "# Print best parameters and best score\n",
    "print(\"Best Parameters:\", best_params)\n",
    "print(\"Best Score (accuracy):\", best_score)"
   ]
  },
  {
   "cell_type": "code",
   "execution_count": 14,
   "id": "0e3db1d7",
   "metadata": {},
   "outputs": [
    {
     "name": "stdout",
     "output_type": "stream",
     "text": [
      "Confusion Matrix:\n",
      "[[ 93   2]\n",
      " [  2 103]]\n",
      "\n",
      "Accuracy of Decision Tree Classifier (after hyperparameter tuning): 98.0 \n",
      "\n",
      "Classification Report:\n",
      "              precision    recall  f1-score   support\n",
      "\n",
      "           0       0.98      0.98      0.98        95\n",
      "           1       0.98      0.98      0.98       105\n",
      "\n",
      "    accuracy                           0.98       200\n",
      "   macro avg       0.98      0.98      0.98       200\n",
      "weighted avg       0.98      0.98      0.98       200\n",
      "\n"
     ]
    }
   ],
   "source": [
    "# Train the model with best parameters\n",
    "best_dt = DecisionTreeClassifier(**best_params, random_state=0)\n",
    "best_dt.fit(X_train, y_train)\n",
    "\n",
    "# Make predictions with the best model\n",
    "best_dt_predicted = best_dt.predict(X_test)\n",
    "\n",
    "# Evaluate the best model\n",
    "best_dt_conf_matrix = confusion_matrix(y_test, best_dt_predicted)\n",
    "best_dt_acc_score = accuracy_score(y_test, best_dt_predicted)\n",
    "\n",
    "# Print confusion matrix and accuracy\n",
    "print(\"Confusion Matrix:\")\n",
    "print(best_dt_conf_matrix)\n",
    "print(\"\\nAccuracy of Decision Tree Classifier (after hyperparameter tuning):\", best_dt_acc_score * 100, '\\n')\n",
    "print(\"Classification Report:\")\n",
    "print(classification_report(y_test, best_dt_predicted))"
   ]
  },
  {
   "cell_type": "code",
   "execution_count": 12,
   "id": "ff31c59d",
   "metadata": {},
   "outputs": [
    {
     "data": {
      "image/png": "[encoded data removed]",
      "text/plain": [
       "<Figure size 640x480 with 1 Axes>"
      ]
     },
     "metadata": {},
     "output_type": "display_data"
    }
   ],
   "source": [
    "# Compute predicted probabilities\n",
    "y_pred_proba = dt.predict_proba(X_test)[:,1]\n",
    "\n",
    "# Compute ROC curve and ROC area for each class\n",
    "fpr, tpr, _ = roc_curve(y_test, y_pred_proba)\n",
    "roc_auc = auc(fpr, tpr)\n",
    "\n",
    "# Plot ROC curve\n",
    "plt.figure()\n",
    "lw = 2\n",
    "plt.plot(fpr, tpr, color='darkorange', lw=lw, label='ROC curve (area = %0.2f)' % roc_auc)\n",
    "plt.plot([0, 1], [0, 1], color='navy', lw=lw, linestyle='--')\n",
    "plt.xlim([0.0, 1.0])\n",
    "plt.ylim([0.0, 1.05])\n",
    "plt.xlabel('False Positive Rate')\n",
    "plt.ylabel('True Positive Rate')\n",
    "plt.title('Receiver Operating Characteristic (ROC) Curve')\n",
    "plt.legend(loc=\"lower right\")\n",
    "plt.show()"
   ]
  },
  {
   "cell_type": "code",
   "execution_count": 14,
   "id": "d4b465f0-d7e6-4fc6-ba90-04cbfd8e1ab6",
   "metadata": {},
   "outputs": [
    {
     "data": {
      "text/plain": [
       "array([1, 1, 1, 0, 1, 0, 1, 0, 1, 1, 1, 1, 0, 1, 0, 1, 1, 1, 0, 0, 0, 0,\n",
       "       0, 1, 1, 0, 0, 1, 1, 0, 0, 1, 1, 1, 1, 1, 1, 0, 0, 1, 0, 0, 1, 0,\n",
       "       1, 1, 0, 0, 0, 1, 0, 0, 1, 1, 0, 1, 1, 0, 1, 1, 1, 0, 1, 1, 0, 1,\n",
       "       1, 0, 1, 0, 1, 0, 0, 0, 0, 1, 0, 1, 1, 1, 1, 0, 1, 1, 1, 0, 0, 0,\n",
       "       0, 1, 1, 0, 1, 1, 1, 1, 0, 1, 1, 1, 1, 0, 1, 0, 1, 1, 1, 1, 0, 1,\n",
       "       1, 1, 0, 0, 0, 0, 1, 0, 1, 1, 0, 0, 0, 0, 1, 0, 0, 1, 1, 0, 0, 0,\n",
       "       0, 0, 0, 0, 0, 0, 1, 0, 0, 0, 1, 1, 1, 1, 0, 1, 1, 1, 0, 0, 0, 1,\n",
       "       0, 1, 1, 0, 1, 1, 1, 1, 0, 1, 1, 1, 1, 1, 1, 0, 0, 1, 1, 1, 0, 0,\n",
       "       1, 0, 1, 1, 0, 0, 0, 0, 0, 1, 0, 1, 1, 0, 1, 1, 0, 1, 0, 1, 0, 1,\n",
       "       1, 1], dtype=int64)"
      ]
     },
     "execution_count": 14,
     "metadata": {},
     "output_type": "execute_result"
    }
   ],
   "source": [
    "dt_predicted"
   ]
  },
  {
   "cell_type": "code",
   "execution_count": 15,
   "id": "cc11cfa0-03cc-4458-86e8-1afd58858f50",
   "metadata": {},
   "outputs": [
    {
     "data": {
      "text/plain": [
       "(200, 2)"
      ]
     },
     "execution_count": 15,
     "metadata": {},
     "output_type": "execute_result"
    }
   ],
   "source": [
    "dt_predict_proba = dt.predict_proba(X_test)\n",
    "dt_predict_proba.shape"
   ]
  },
  {
   "cell_type": "code",
   "execution_count": 16,
   "id": "aeff0b13-0747-415e-bc28-b2f280429a12",
   "metadata": {},
   "outputs": [
    {
     "data": {
      "text/plain": [
       "array([1.        , 1.        , 1.        , 0.        , 1.        ,\n",
       "       0.        , 1.        , 0.        , 1.        , 1.        ,\n",
       "       1.        , 1.        , 0.        , 1.        , 0.        ,\n",
       "       1.        , 1.        , 1.        , 0.        , 0.        ,\n",
       "       0.        , 0.        , 0.        , 1.        , 1.        ,\n",
       "       0.        , 0.        , 1.        , 1.        , 0.        ,\n",
       "       0.        , 1.        , 1.        , 1.        , 1.        ,\n",
       "       1.        , 1.        , 0.        , 0.        , 0.97142857,\n",
       "       0.        , 0.        , 1.        , 0.        , 1.        ,\n",
       "       1.        , 0.        , 0.        , 0.        , 1.        ,\n",
       "       0.        , 0.        , 1.        , 1.        , 0.        ,\n",
       "       1.        , 1.        , 0.        , 1.        , 1.        ,\n",
       "       1.        , 0.        , 0.97142857, 1.        , 0.        ,\n",
       "       1.        , 1.        , 0.        , 1.        , 0.        ,\n",
       "       0.53333333, 0.        , 0.        , 0.        , 0.        ,\n",
       "       0.53333333, 0.        , 1.        , 1.        , 1.        ,\n",
       "       1.        , 0.        , 1.        , 1.        , 1.        ,\n",
       "       0.        , 0.        , 0.        , 0.        , 1.        ,\n",
       "       1.        , 0.        , 1.        , 0.97142857, 1.        ,\n",
       "       1.        , 0.        , 1.        , 1.        , 1.        ,\n",
       "       1.        , 0.        , 1.        , 0.        , 1.        ,\n",
       "       1.        , 0.92307692, 0.97142857, 0.        , 1.        ,\n",
       "       1.        , 1.        , 0.        , 0.        , 0.        ,\n",
       "       0.        , 1.        , 0.        , 1.        , 0.97142857,\n",
       "       0.        , 0.        , 0.        , 0.        , 1.        ,\n",
       "       0.        , 0.        , 1.        , 1.        , 0.        ,\n",
       "       0.        , 0.        , 0.        , 0.        , 0.        ,\n",
       "       0.        , 0.        , 0.        , 1.        , 0.        ,\n",
       "       0.        , 0.        , 1.        , 1.        , 1.        ,\n",
       "       1.        , 0.        , 1.        , 0.97142857, 1.        ,\n",
       "       0.        , 0.        , 0.        , 1.        , 0.        ,\n",
       "       1.        , 1.        , 0.        , 0.53333333, 1.        ,\n",
       "       0.97142857, 1.        , 0.        , 0.92307692, 1.        ,\n",
       "       1.        , 1.        , 1.        , 0.97142857, 0.        ,\n",
       "       0.        , 1.        , 1.        , 1.        , 0.        ,\n",
       "       0.        , 1.        , 0.        , 1.        , 1.        ,\n",
       "       0.        , 0.        , 0.        , 0.        , 0.        ,\n",
       "       1.        , 0.        , 1.        , 1.        , 0.        ,\n",
       "       1.        , 1.        , 0.        , 1.        , 0.        ,\n",
       "       1.        , 0.        , 1.        , 1.        , 0.97142857])"
      ]
     },
     "execution_count": 16,
     "metadata": {},
     "output_type": "execute_result"
    }
   ],
   "source": [
    "dt_predict_probability = dt_predict_proba[:,1]\n",
    "dt_predict_probability"
   ]
  },
  {
   "cell_type": "code",
   "execution_count": 17,
   "id": "42cc9d84-0b93-4185-b243-7762411e6bf7",
   "metadata": {},
   "outputs": [
    {
     "data": {
      "text/plain": [
       "(200,)"
      ]
     },
     "execution_count": 17,
     "metadata": {},
     "output_type": "execute_result"
    }
   ],
   "source": [
    "dt_predict_probability.shape"
   ]
  },
  {
   "cell_type": "code",
   "execution_count": 18,
   "id": "bde253cf-1034-44cf-a233-66c19946238a",
   "metadata": {},
   "outputs": [],
   "source": [
    "# save the model to disk\n",
    "filename = '../saved_models/decision_tree_model.sav'\n",
    "pickle.dump(dt, open(filename, 'wb'))"
   ]
  },
  {
   "cell_type": "code",
   "execution_count": 19,
   "id": "93382d50",
   "metadata": {},
   "outputs": [
    {
     "data": {
      "text/plain": [
       "['../saved_models/decision_tree_model_scaler']"
      ]
     },
     "execution_count": 19,
     "metadata": {},
     "output_type": "execute_result"
    }
   ],
   "source": [
    "# save the scaler to disk\n",
    "scaler_filename = \"../saved_models/decision_tree_model_scaler\"\n",
    "joblib.dump(scaler, scaler_filename) "
   ]
  },
  {
   "cell_type": "markdown",
   "id": "1e4f6a4a-5648-49a8-8155-cc6cc70d4a90",
   "metadata": {},
   "source": [
    "# Front End"
   ]
  },
  {
   "cell_type": "code",
   "execution_count": 20,
   "id": "d9cd19ad",
   "metadata": {},
   "outputs": [],
   "source": [
    "# Load the scaler\n",
    "scaler_filename = \"../saved_models/decision_tree_model_scaler\"\n",
    "scaler = joblib.load(scaler_filename)"
   ]
  },
  {
   "cell_type": "code",
   "execution_count": 21,
   "id": "b3bebd27-1278-41cd-bf7e-402c34a76024",
   "metadata": {},
   "outputs": [],
   "source": [
    "# load the model from disk\n",
    "filename = '../saved_models/decision_tree_model.sav'\n",
    "loaded_model = pickle.load(open(filename, 'rb'))"
   ]
  },
  {
   "cell_type": "code",
   "execution_count": 22,
   "id": "67a84bff-9811-4775-9f78-19766eedcd69",
   "metadata": {},
   "outputs": [],
   "source": [
    "# Prediction - Based on FE values\n",
    "features_values = np.array([53, 1, 2, 171, 0, 0, 1, 147, 0, 5.3, 3, 3]).reshape(1, -1)"
   ]
  },
  {
   "cell_type": "code",
   "execution_count": 23,
   "id": "0f088a57",
   "metadata": {},
   "outputs": [
    {
     "data": {
      "text/plain": [
       "(1, 12)"
      ]
     },
     "execution_count": 23,
     "metadata": {},
     "output_type": "execute_result"
    }
   ],
   "source": [
    "features_values.shape"
   ]
  },
  {
   "cell_type": "code",
   "execution_count": 24,
   "id": "4b7dbf0a-87da-4c18-a4d0-a049a54c6040",
   "metadata": {},
   "outputs": [
    {
     "name": "stderr",
     "output_type": "stream",
     "text": [
      "C:\\Users\\divya\\anaconda3\\Lib\\site-packages\\sklearn\\base.py:493: UserWarning: X does not have valid feature names, but StandardScaler was fitted with feature names\n",
      "  warnings.warn(\n"
     ]
    },
    {
     "data": {
      "text/plain": [
       "(1, 12)"
      ]
     },
     "execution_count": 24,
     "metadata": {},
     "output_type": "execute_result"
    }
   ],
   "source": [
    "scaled_features_values = scaler.transform(features_values)\n",
    "scaled_features_values.shape"
   ]
  },
  {
   "cell_type": "code",
   "execution_count": 25,
   "id": "f0b9dc3a-f770-4017-9694-25b08c12be5e",
   "metadata": {},
   "outputs": [
    {
     "data": {
      "text/plain": [
       "(1,)"
      ]
     },
     "execution_count": 25,
     "metadata": {},
     "output_type": "execute_result"
    }
   ],
   "source": [
    "fe_model_output = loaded_model.predict(scaled_features_values)\n",
    "fe_model_output.shape"
   ]
  },
  {
   "cell_type": "code",
   "execution_count": 26,
   "id": "7944270d",
   "metadata": {},
   "outputs": [
    {
     "data": {
      "text/plain": [
       "array([1], dtype=int64)"
      ]
     },
     "execution_count": 26,
     "metadata": {},
     "output_type": "execute_result"
    }
   ],
   "source": [
    "fe_model_output"
   ]
  },
  {
   "cell_type": "code",
   "execution_count": 27,
   "id": "3aaa379d",
   "metadata": {},
   "outputs": [
    {
     "data": {
      "text/plain": [
       "(1, 2)"
      ]
     },
     "execution_count": 27,
     "metadata": {},
     "output_type": "execute_result"
    }
   ],
   "source": [
    "fe_model_proba_output = loaded_model.predict_proba(scaled_features_values)\n",
    "fe_model_proba_output.shape"
   ]
  },
  {
   "cell_type": "code",
   "execution_count": 28,
   "id": "fd6197a2",
   "metadata": {},
   "outputs": [
    {
     "data": {
      "text/plain": [
       "array([1.])"
      ]
     },
     "execution_count": 28,
     "metadata": {},
     "output_type": "execute_result"
    }
   ],
   "source": [
    "fe_predict_probability = fe_model_proba_output[:,1]\n",
    "fe_predict_probability"
   ]
  },
  {
   "cell_type": "code",
   "execution_count": null,
   "id": "15ba25c7",
   "metadata": {},
   "outputs": [],
   "source": []
  }
 ],
 "metadata": {
  "kernelspec": {
   "display_name": "Python 3 (ipykernel)",
   "language": "python",
   "name": "python3"
  },
  "language_info": {
   "codemirror_mode": {
    "name": "ipython",
    "version": 3
   },
   "file_extension": ".py",
   "mimetype": "text/x-python",
   "name": "python",
   "nbconvert_exporter": "python",
   "pygments_lexer": "ipython3",
   "version": "3.11.5"
  }
 },
 "nbformat": 4,
 "nbformat_minor": 5
}
