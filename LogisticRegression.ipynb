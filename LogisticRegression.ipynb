{
 "cells": [
  {
   "cell_type": "code",
   "execution_count": 1,
   "id": "9c4c9959-9343-443f-a52c-b0fcee80f2a8",
   "metadata": {},
   "outputs": [],
   "source": [
    "import pandas as pd\n",
    "import numpy as np\n",
    "from sklearn.model_selection import train_test_split\n",
    "from sklearn.preprocessing import StandardScaler\n",
    "from sklearn.metrics import confusion_matrix,accuracy_score,roc_curve,classification_report\n",
    "from sklearn.linear_model import LogisticRegression\n",
    "from sklearn.model_selection import KFold\n",
    "from sklearn.metrics import roc_curve, auc\n",
    "import matplotlib.pyplot as plt\n",
    "import pickle\n",
    "import joblib"
   ]
  },
  {
   "cell_type": "code",
   "execution_count": 2,
   "id": "566887ae-8dbe-4bfb-9599-7c1e96f46701",
   "metadata": {},
   "outputs": [
    {
     "data": {
      "text/plain": [
       "(1000, 14)"
      ]
     },
     "execution_count": 2,
     "metadata": {},
     "output_type": "execute_result"
    }
   ],
   "source": [
    "data = pd.read_csv(\"../data/heart.csv\")\n",
    "data.shape"
   ]
  },
  {
   "cell_type": "code",
   "execution_count": 3,
   "id": "2051bc02-49f0-411c-a0b8-eeb59624ad77",
   "metadata": {},
   "outputs": [
    {
     "data": {
      "text/html": [
       "<div>\n",
       "<style scoped>\n",
       "    .dataframe tbody tr th:only-of-type {\n",
       "        vertical-align: middle;\n",
       "    }\n",
       "\n",
       "    .dataframe tbody tr th {\n",
       "        vertical-align: top;\n",
       "    }\n",
       "\n",
       "    .dataframe thead th {\n",
       "        text-align: right;\n",
       "    }\n",
       "</style>\n",
       "<table border=\"1\" class=\"dataframe\">\n",
       "  <thead>\n",
       "    <tr style=\"text-align: right;\">\n",
       "      <th></th>\n",
       "      <th>patientid</th>\n",
       "      <th>age</th>\n",
       "      <th>gender</th>\n",
       "      <th>chestpain</th>\n",
       "      <th>restingBP</th>\n",
       "      <th>serumcholestrol</th>\n",
       "      <th>fastingbloodsugar</th>\n",
       "      <th>restingrelectro</th>\n",
       "      <th>maxheartrate</th>\n",
       "      <th>exerciseangia</th>\n",
       "      <th>oldpeak</th>\n",
       "      <th>slope</th>\n",
       "      <th>noofmajorvessels</th>\n",
       "      <th>target</th>\n",
       "    </tr>\n",
       "  </thead>\n",
       "  <tbody>\n",
       "    <tr>\n",
       "      <th>0</th>\n",
       "      <td>103368</td>\n",
       "      <td>53</td>\n",
       "      <td>1</td>\n",
       "      <td>2</td>\n",
       "      <td>171</td>\n",
       "      <td>0</td>\n",
       "      <td>0</td>\n",
       "      <td>1</td>\n",
       "      <td>147</td>\n",
       "      <td>0</td>\n",
       "      <td>5.3</td>\n",
       "      <td>3</td>\n",
       "      <td>3</td>\n",
       "      <td>1</td>\n",
       "    </tr>\n",
       "    <tr>\n",
       "      <th>1</th>\n",
       "      <td>119250</td>\n",
       "      <td>40</td>\n",
       "      <td>1</td>\n",
       "      <td>0</td>\n",
       "      <td>94</td>\n",
       "      <td>229</td>\n",
       "      <td>0</td>\n",
       "      <td>1</td>\n",
       "      <td>115</td>\n",
       "      <td>0</td>\n",
       "      <td>3.7</td>\n",
       "      <td>1</td>\n",
       "      <td>1</td>\n",
       "      <td>0</td>\n",
       "    </tr>\n",
       "    <tr>\n",
       "      <th>2</th>\n",
       "      <td>119372</td>\n",
       "      <td>49</td>\n",
       "      <td>1</td>\n",
       "      <td>2</td>\n",
       "      <td>133</td>\n",
       "      <td>142</td>\n",
       "      <td>0</td>\n",
       "      <td>0</td>\n",
       "      <td>202</td>\n",
       "      <td>1</td>\n",
       "      <td>5.0</td>\n",
       "      <td>1</td>\n",
       "      <td>0</td>\n",
       "      <td>0</td>\n",
       "    </tr>\n",
       "    <tr>\n",
       "      <th>3</th>\n",
       "      <td>132514</td>\n",
       "      <td>43</td>\n",
       "      <td>1</td>\n",
       "      <td>0</td>\n",
       "      <td>138</td>\n",
       "      <td>295</td>\n",
       "      <td>1</td>\n",
       "      <td>1</td>\n",
       "      <td>153</td>\n",
       "      <td>0</td>\n",
       "      <td>3.2</td>\n",
       "      <td>2</td>\n",
       "      <td>2</td>\n",
       "      <td>1</td>\n",
       "    </tr>\n",
       "    <tr>\n",
       "      <th>4</th>\n",
       "      <td>146211</td>\n",
       "      <td>31</td>\n",
       "      <td>1</td>\n",
       "      <td>1</td>\n",
       "      <td>199</td>\n",
       "      <td>0</td>\n",
       "      <td>0</td>\n",
       "      <td>2</td>\n",
       "      <td>136</td>\n",
       "      <td>0</td>\n",
       "      <td>5.3</td>\n",
       "      <td>3</td>\n",
       "      <td>2</td>\n",
       "      <td>1</td>\n",
       "    </tr>\n",
       "  </tbody>\n",
       "</table>\n",
       "</div>"
      ],
      "text/plain": [
       "   patientid  age  gender  chestpain  restingBP  serumcholestrol  \\\n",
       "0     103368   53       1          2        171                0   \n",
       "1     119250   40       1          0         94              229   \n",
       "2     119372   49       1          2        133              142   \n",
       "3     132514   43       1          0        138              295   \n",
       "4     146211   31       1          1        199                0   \n",
       "\n",
       "   fastingbloodsugar  restingrelectro  maxheartrate  exerciseangia  oldpeak  \\\n",
       "0                  0                1           147              0      5.3   \n",
       "1                  0                1           115              0      3.7   \n",
       "2                  0                0           202              1      5.0   \n",
       "3                  1                1           153              0      3.2   \n",
       "4                  0                2           136              0      5.3   \n",
       "\n",
       "   slope  noofmajorvessels  target  \n",
       "0      3                 3       1  \n",
       "1      1                 1       0  \n",
       "2      1                 0       0  \n",
       "3      2                 2       1  \n",
       "4      3                 2       1  "
      ]
     },
     "execution_count": 3,
     "metadata": {},
     "output_type": "execute_result"
    }
   ],
   "source": [
    "data.head()"
   ]
  },
  {
   "cell_type": "code",
   "execution_count": 4,
   "id": "512cf14c-5eb3-4f92-939a-596a5ce5f007",
   "metadata": {},
   "outputs": [],
   "source": [
    "y = data[\"target\"]\n",
    "X = data.drop(columns=['patientid','target'])\n",
    "X_train, X_test, y_train, y_test = train_test_split(X, y, test_size=0.20, random_state = 0)"
   ]
  },
  {
   "cell_type": "code",
   "execution_count": 5,
   "id": "6256c9a5-4d6e-401c-81a6-9ec2df9795a0",
   "metadata": {},
   "outputs": [
    {
     "data": {
      "text/plain": [
       "(800, 200)"
      ]
     },
     "execution_count": 5,
     "metadata": {},
     "output_type": "execute_result"
    }
   ],
   "source": [
    "len(X_train), len(X_test)"
   ]
  },
  {
   "cell_type": "code",
   "execution_count": 6,
   "id": "cb77decc-d739-4c83-bb96-84a7c4df804e",
   "metadata": {},
   "outputs": [],
   "source": [
    "scaler = StandardScaler()\n",
    "X_train = scaler.fit_transform(X_train)\n",
    "X_test = scaler.transform(X_test)"
   ]
  },
  {
   "cell_type": "code",
   "execution_count": 7,
   "id": "660dacaf",
   "metadata": {},
   "outputs": [
    {
     "data": {
      "text/plain": [
       "(800, 12)"
      ]
     },
     "execution_count": 7,
     "metadata": {},
     "output_type": "execute_result"
    }
   ],
   "source": [
    "X_train.shape"
   ]
  },
  {
   "cell_type": "code",
   "execution_count": 8,
   "id": "d407eb07-e51e-4477-87c9-7089bcb29921",
   "metadata": {},
   "outputs": [
    {
     "data": {
      "text/plain": [
       "array([4.9766250e+01, 7.6875000e-01, 1.0075000e+00, 1.5193750e+02,\n",
       "       3.1404625e+02, 3.1250000e-01, 7.5000000e-01, 1.4558625e+02,\n",
       "       5.0875000e-01, 2.7481250e+00, 1.5600000e+00, 1.2412500e+00])"
      ]
     },
     "execution_count": 8,
     "metadata": {},
     "output_type": "execute_result"
    }
   ],
   "source": [
    "scaler.mean_"
   ]
  },
  {
   "cell_type": "code",
   "execution_count": 9,
   "id": "f89bf786-3f4c-42ab-a6dd-7aa6763ac557",
   "metadata": {},
   "outputs": [
    {
     "data": {
      "text/plain": [
       "(-1.6725143415733175,\n",
       " 1.6987823617198097,\n",
       " -1.0532897487880573,\n",
       " 2.08305689772725)"
      ]
     },
     "execution_count": 9,
     "metadata": {},
     "output_type": "execute_result"
    }
   ],
   "source": [
    "X_train[:, 0].min(), X_train[:, 0].max(), X_train[:, 2].min(), X_train[:, 2].max()"
   ]
  },
  {
   "cell_type": "code",
   "execution_count": 10,
   "id": "6f90af91-5c15-465a-827c-2569514a7e3a",
   "metadata": {},
   "outputs": [
    {
     "data": {
      "text/plain": [
       "array([ 0.40645196, -1.82327297, -1.05328975,  0.93522777,  1.53631292,\n",
       "       -0.67419986,  0.32547228,  1.35413438, -1.01765584, -0.49016407,\n",
       "        1.43899306,  1.79450419])"
      ]
     },
     "execution_count": 10,
     "metadata": {},
     "output_type": "execute_result"
    }
   ],
   "source": [
    "X_train[0]"
   ]
  },
  {
   "cell_type": "code",
   "execution_count": 11,
   "id": "d75031b2-4a93-41f2-a05e-74021719aeaa",
   "metadata": {},
   "outputs": [
    {
     "name": "stdout",
     "output_type": "stream",
     "text": [
      "confussion matrix\n",
      "[[ 92   3]\n",
      " [  2 103]]\n",
      "\n",
      "\n",
      "Accuracy of Logistic Regression: 97.5 \n",
      "\n",
      "              precision    recall  f1-score   support\n",
      "\n",
      "           0       0.98      0.97      0.97        95\n",
      "           1       0.97      0.98      0.98       105\n",
      "\n",
      "    accuracy                           0.97       200\n",
      "   macro avg       0.98      0.97      0.97       200\n",
      "weighted avg       0.98      0.97      0.97       200\n",
      "\n"
     ]
    }
   ],
   "source": [
    "lr = LogisticRegression()\n",
    "model = lr.fit(X_train, y_train)\n",
    "lr_predict = lr.predict(X_test)\n",
    "lr_conf_matrix = confusion_matrix(y_test, lr_predict)\n",
    "lr_acc_score = accuracy_score(y_test, lr_predict)\n",
    "print(\"confussion matrix\")\n",
    "print(lr_conf_matrix)\n",
    "print(\"\\n\")\n",
    "print(\"Accuracy of Logistic Regression:\",lr_acc_score*100,'\\n')\n",
    "print(classification_report(y_test,lr_predict))"
   ]
  },
  {
   "cell_type": "code",
   "execution_count": 12,
   "id": "d4b465f0-d7e6-4fc6-ba90-04cbfd8e1ab6",
   "metadata": {},
   "outputs": [
    {
     "data": {
      "text/plain": [
       "array([1, 1, 1, 0, 1, 0, 1, 0, 1, 1, 1, 1, 0, 1, 0, 1, 1, 1, 0, 0, 0, 0,\n",
       "       0, 1, 1, 0, 0, 1, 1, 0, 0, 0, 1, 1, 1, 1, 1, 0, 0, 1, 0, 0, 1, 0,\n",
       "       1, 1, 0, 0, 0, 1, 0, 0, 1, 1, 0, 1, 1, 0, 1, 1, 1, 0, 1, 1, 0, 1,\n",
       "       1, 0, 1, 0, 0, 0, 0, 0, 0, 1, 0, 1, 1, 1, 1, 0, 1, 1, 0, 0, 0, 0,\n",
       "       0, 1, 1, 0, 1, 1, 1, 1, 0, 1, 1, 1, 1, 0, 1, 0, 1, 1, 1, 1, 0, 1,\n",
       "       1, 1, 0, 0, 0, 0, 1, 0, 1, 0, 0, 0, 0, 0, 1, 0, 0, 1, 1, 0, 0, 0,\n",
       "       0, 0, 0, 0, 0, 0, 1, 0, 0, 0, 1, 1, 1, 1, 0, 1, 1, 1, 0, 0, 0, 1,\n",
       "       0, 1, 1, 0, 1, 1, 1, 1, 0, 1, 1, 1, 1, 1, 1, 0, 0, 1, 1, 1, 0, 0,\n",
       "       1, 0, 1, 1, 0, 0, 0, 0, 0, 1, 0, 1, 1, 0, 1, 1, 0, 1, 0, 1, 0, 1,\n",
       "       1, 1], dtype=int64)"
      ]
     },
     "execution_count": 12,
     "metadata": {},
     "output_type": "execute_result"
    }
   ],
   "source": [
    "lr_predict"
   ]
  },
  {
   "cell_type": "code",
   "execution_count": 17,
   "id": "8ea5c834",
   "metadata": {},
   "outputs": [
    {
     "name": "stdout",
     "output_type": "stream",
     "text": [
      "Model Accuracy Score: 96.12 %\n",
      "Std. Dev: 2.05 %\n"
     ]
    }
   ],
   "source": [
    "from sklearn.model_selection import cross_val_score\n",
    "val_score = cross_val_score(estimator=lr, X = X_train, y=y_train, cv=10)\n",
    "print(\"Model Accuracy Score: {:.2f} %\".format(val_score.mean()*100))\n",
    "print(\"Std. Dev: {:.2f} %\".format(val_score.std()*100))"
   ]
  },
  {
   "cell_type": "code",
   "execution_count": 20,
   "id": "87fdfc6b",
   "metadata": {},
   "outputs": [
    {
     "name": "stderr",
     "output_type": "stream",
     "text": [
      "C:\\Users\\divya\\anaconda3\\Lib\\site-packages\\sklearn\\linear_model\\_sag.py:350: ConvergenceWarning: The max_iter was reached which means the coef_ did not converge\n",
      "  warnings.warn(\n",
      "C:\\Users\\divya\\anaconda3\\Lib\\site-packages\\sklearn\\linear_model\\_sag.py:350: ConvergenceWarning: The max_iter was reached which means the coef_ did not converge\n",
      "  warnings.warn(\n",
      "C:\\Users\\divya\\anaconda3\\Lib\\site-packages\\sklearn\\linear_model\\_sag.py:350: ConvergenceWarning: The max_iter was reached which means the coef_ did not converge\n",
      "  warnings.warn(\n"
     ]
    },
    {
     "name": "stdout",
     "output_type": "stream",
     "text": [
      "Best Parameters: {'C': 1, 'penalty': 'l2', 'solver': 'saga'}\n",
      "Best Score (accuracy): 0.96125\n"
     ]
    },
    {
     "name": "stderr",
     "output_type": "stream",
     "text": [
      "C:\\Users\\divya\\anaconda3\\Lib\\site-packages\\sklearn\\linear_model\\_sag.py:350: ConvergenceWarning: The max_iter was reached which means the coef_ did not converge\n",
      "  warnings.warn(\n"
     ]
    }
   ],
   "source": [
    "from sklearn.model_selection import GridSearchCV\n",
    "# Define the Logistic Regression model\n",
    "lr = LogisticRegression()\n",
    "\n",
    "# Define the hyperparameters grid for tuning\n",
    "param_grid = {\n",
    "    'C': [0.001, 0.01, 0.1, 1, 10, 100],  # Regularization parameter\n",
    "    'penalty': ['l1', 'l2'],               # Penalty term\n",
    "    'solver': ['liblinear', 'saga']        # Optimization algorithm\n",
    "}\n",
    "\n",
    "# Perform Grid Search with 10-fold cross-validation\n",
    "grid_search = GridSearchCV(estimator=lr, param_grid=param_grid, cv=10, scoring='accuracy')\n",
    "grid_search.fit(X_train, y_train)\n",
    "\n",
    "# Best parameters and best score found\n",
    "best_params = grid_search.best_params_\n",
    "best_score = grid_search.best_score_\n",
    "\n",
    "# Print best parameters and best score\n",
    "print(\"Best Parameters:\", best_params)\n",
    "print(\"Best Score (accuracy):\", best_score)"
   ]
  },
  {
   "cell_type": "code",
   "execution_count": 19,
   "id": "84579f95",
   "metadata": {},
   "outputs": [
    {
     "name": "stdout",
     "output_type": "stream",
     "text": [
      "Confusion Matrix:\n",
      "[[ 92   3]\n",
      " [  2 103]]\n",
      "\n",
      "Accuracy of Logistic Regression (after hyperparameter tuning): 97.5 \n",
      "\n",
      "Classification Report:\n",
      "              precision    recall  f1-score   support\n",
      "\n",
      "           0       0.98      0.97      0.97        95\n",
      "           1       0.97      0.98      0.98       105\n",
      "\n",
      "    accuracy                           0.97       200\n",
      "   macro avg       0.98      0.97      0.97       200\n",
      "weighted avg       0.98      0.97      0.97       200\n",
      "\n"
     ]
    }
   ],
   "source": [
    "# Train the model with best parameters\n",
    "best_lr = LogisticRegression(**best_params)\n",
    "best_lr.fit(X_train, y_train)\n",
    "\n",
    "# Make predictions with the best model\n",
    "best_lr_predict = best_lr.predict(X_test)\n",
    "\n",
    "# Evaluate the best model\n",
    "best_lr_conf_matrix = confusion_matrix(y_test, best_lr_predict)\n",
    "best_lr_acc_score = accuracy_score(y_test, best_lr_predict)\n",
    "\n",
    "# Print confusion matrix and accuracy\n",
    "print(\"Confusion Matrix:\")\n",
    "print(best_lr_conf_matrix)\n",
    "print(\"\\nAccuracy of Logistic Regression (after hyperparameter tuning):\", best_lr_acc_score * 100, '\\n')\n",
    "print(\"Classification Report:\")\n",
    "print(classification_report(y_test, best_lr_predict))"
   ]
  },
  {
   "cell_type": "code",
   "execution_count": 13,
   "id": "5b98ded7",
   "metadata": {},
   "outputs": [
    {
     "data": {
      "image/png": "[encoded data removed]",
      "text/plain": [
       "<Figure size 640x480 with 1 Axes>"
      ]
     },
     "metadata": {},
     "output_type": "display_data"
    }
   ],
   "source": [
    "# Compute predicted probabilities\n",
    "y_pred_proba = lr.predict_proba(X_test)[:,1]\n",
    "\n",
    "# Compute ROC curve and ROC area for each class\n",
    "fpr, tpr, _ = roc_curve(y_test, y_pred_proba)\n",
    "roc_auc = auc(fpr, tpr)\n",
    "\n",
    "# Plot ROC curve\n",
    "plt.figure()\n",
    "lw = 2\n",
    "plt.plot(fpr, tpr, color='darkorange', lw=lw, label='ROC curve (area = %0.2f)' % roc_auc)\n",
    "plt.plot([0, 1], [0, 1], color='navy', lw=lw, linestyle='--')\n",
    "plt.xlim([0.0, 1.0])\n",
    "plt.ylim([0.0, 1.05])\n",
    "plt.xlabel('False Positive Rate')\n",
    "plt.ylabel('True Positive Rate')\n",
    "plt.title('Receiver Operating Characteristic (ROC) Curve')\n",
    "plt.legend(loc=\"lower right\")\n",
    "plt.show()"
   ]
  },
  {
   "cell_type": "code",
   "execution_count": 15,
   "id": "cc11cfa0-03cc-4458-86e8-1afd58858f50",
   "metadata": {},
   "outputs": [
    {
     "data": {
      "text/plain": [
       "(200, 2)"
      ]
     },
     "execution_count": 15,
     "metadata": {},
     "output_type": "execute_result"
    }
   ],
   "source": [
    "lr_predict_proba = lr.predict_proba(X_test)\n",
    "lr_predict_proba.shape"
   ]
  },
  {
   "cell_type": "code",
   "execution_count": 16,
   "id": "aeff0b13-0747-415e-bc28-b2f280429a12",
   "metadata": {},
   "outputs": [
    {
     "data": {
      "text/plain": [
       "array([9.99875376e-01, 9.94003133e-01, 9.99715911e-01, 3.29657215e-03,\n",
       "       9.54543250e-01, 2.78729326e-02, 9.78759200e-01, 3.91618238e-02,\n",
       "       9.99998261e-01, 9.66576717e-01, 9.72731923e-01, 9.97786586e-01,\n",
       "       5.93797217e-05, 9.75368648e-01, 1.45833637e-04, 9.77733141e-01,\n",
       "       9.99998394e-01, 9.98762720e-01, 1.86421637e-02, 7.19863023e-02,\n",
       "       6.95757539e-04, 2.56126599e-01, 5.37240143e-04, 9.99896281e-01,\n",
       "       9.39488547e-01, 7.32893772e-04, 8.92702339e-02, 9.99295359e-01,\n",
       "       9.98723111e-01, 1.04629272e-02, 3.01458597e-02, 2.92583751e-02,\n",
       "       9.93938409e-01, 9.99997669e-01, 9.99766637e-01, 9.81172481e-01,\n",
       "       9.99998531e-01, 1.41201848e-02, 3.70804501e-03, 9.18204851e-01,\n",
       "       3.29326307e-02, 2.37548513e-01, 9.83493698e-01, 3.02202950e-02,\n",
       "       9.99997325e-01, 9.99726524e-01, 1.85312497e-03, 2.58287396e-03,\n",
       "       5.30585238e-02, 9.11546297e-01, 1.80607894e-04, 6.59644729e-02,\n",
       "       9.06292271e-01, 9.76947832e-01, 2.21979271e-01, 9.98092599e-01,\n",
       "       9.99993904e-01, 1.87387605e-04, 8.47867721e-01, 9.67917323e-01,\n",
       "       9.95054068e-01, 4.99931652e-05, 9.53866967e-01, 9.99916301e-01,\n",
       "       1.23563935e-04, 9.93016843e-01, 9.98011129e-01, 8.58013725e-03,\n",
       "       9.92585614e-01, 6.23875394e-05, 4.13577696e-01, 1.47584262e-03,\n",
       "       3.70971055e-01, 4.57041059e-02, 1.11779897e-03, 8.61006119e-01,\n",
       "       5.49768910e-04, 9.99894680e-01, 9.99877804e-01, 9.93652307e-01,\n",
       "       9.97796495e-01, 5.55753316e-05, 9.78195254e-01, 9.41510678e-01,\n",
       "       4.18972569e-01, 8.20378783e-05, 1.58633896e-03, 4.48920808e-04,\n",
       "       1.42970884e-01, 9.92921990e-01, 9.91677788e-01, 5.43868689e-03,\n",
       "       9.97875752e-01, 7.17113556e-01, 9.68015761e-01, 8.45777511e-01,\n",
       "       1.90470218e-01, 9.99874276e-01, 9.98326535e-01, 9.99943211e-01,\n",
       "       9.69660156e-01, 3.50463363e-01, 9.99929515e-01, 4.72945117e-02,\n",
       "       9.99191368e-01, 9.99982169e-01, 7.49138705e-01, 9.58803789e-01,\n",
       "       4.60114965e-01, 9.82077269e-01, 9.89014051e-01, 9.96140790e-01,\n",
       "       8.09334769e-02, 9.88838926e-04, 8.04201531e-02, 4.47751491e-03,\n",
       "       9.99618658e-01, 2.04106533e-01, 9.98974065e-01, 1.92845109e-01,\n",
       "       3.93748345e-02, 1.89184975e-01, 3.55632572e-02, 1.18579252e-04,\n",
       "       9.99995331e-01, 2.87799605e-02, 2.81950649e-02, 9.99938246e-01,\n",
       "       9.26135647e-01, 7.23396657e-03, 4.55651464e-02, 3.37078048e-05,\n",
       "       2.75009088e-03, 2.88935829e-02, 8.69180134e-03, 1.04644344e-01,\n",
       "       5.78243024e-04, 5.15165012e-04, 9.99447842e-01, 5.07771979e-02,\n",
       "       2.95926067e-03, 6.04975950e-02, 9.99754943e-01, 9.99560431e-01,\n",
       "       9.99965036e-01, 9.93721674e-01, 5.43130314e-04, 9.99865077e-01,\n",
       "       9.53242983e-01, 9.99994114e-01, 3.04581637e-02, 8.12595011e-05,\n",
       "       1.66763020e-02, 9.99898720e-01, 5.70488437e-05, 9.73331372e-01,\n",
       "       9.87670863e-01, 5.77077810e-02, 7.88441873e-01, 9.99814053e-01,\n",
       "       9.56824336e-01, 9.99929385e-01, 1.25865031e-02, 7.23284490e-01,\n",
       "       9.73795735e-01, 9.99993135e-01, 9.96112163e-01, 9.95154531e-01,\n",
       "       9.73991310e-01, 2.19690408e-04, 7.37268629e-04, 9.99963236e-01,\n",
       "       9.49112699e-01, 9.82502536e-01, 9.55928413e-03, 8.41955775e-05,\n",
       "       9.93712156e-01, 4.13883492e-02, 9.99984401e-01, 9.99865472e-01,\n",
       "       1.02973676e-02, 1.19793747e-04, 8.32629527e-04, 8.25641123e-04,\n",
       "       9.73763798e-02, 9.99974077e-01, 2.01685154e-03, 9.94022230e-01,\n",
       "       9.99830798e-01, 3.61130061e-02, 9.96119661e-01, 9.96593249e-01,\n",
       "       2.61090375e-01, 9.99361824e-01, 2.24213646e-02, 9.63625037e-01,\n",
       "       3.61318671e-02, 9.99748079e-01, 9.99876202e-01, 7.45739930e-01])"
      ]
     },
     "execution_count": 16,
     "metadata": {},
     "output_type": "execute_result"
    }
   ],
   "source": [
    "lr_predict_probability = lr_predict_proba[:,1]\n",
    "lr_predict_probability"
   ]
  },
  {
   "cell_type": "code",
   "execution_count": 17,
   "id": "42cc9d84-0b93-4185-b243-7762411e6bf7",
   "metadata": {},
   "outputs": [
    {
     "data": {
      "text/plain": [
       "(200,)"
      ]
     },
     "execution_count": 17,
     "metadata": {},
     "output_type": "execute_result"
    }
   ],
   "source": [
    "lr_predict_probability.shape"
   ]
  },
  {
   "cell_type": "code",
   "execution_count": 18,
   "id": "bde253cf-1034-44cf-a233-66c19946238a",
   "metadata": {},
   "outputs": [],
   "source": [
    "# save the model to disk\n",
    "filename = '../saved_models/logistic_regression_model.sav'\n",
    "pickle.dump(model, open(filename, 'wb'))"
   ]
  },
  {
   "cell_type": "code",
   "execution_count": 19,
   "id": "93382d50",
   "metadata": {},
   "outputs": [
    {
     "data": {
      "text/plain": [
       "['../saved_models/logistic_regression_model_scaler']"
      ]
     },
     "execution_count": 19,
     "metadata": {},
     "output_type": "execute_result"
    }
   ],
   "source": [
    "# save the scaler to disk\n",
    "scaler_filename = \"../saved_models/logistic_regression_model_scaler\"\n",
    "joblib.dump(scaler, scaler_filename) "
   ]
  },
  {
   "cell_type": "markdown",
   "id": "1e4f6a4a-5648-49a8-8155-cc6cc70d4a90",
   "metadata": {},
   "source": [
    "# Front End"
   ]
  },
  {
   "cell_type": "code",
   "execution_count": 20,
   "id": "d9cd19ad",
   "metadata": {},
   "outputs": [],
   "source": [
    "# Load the scaler\n",
    "scaler_filename = \"../saved_models/logistic_regression_model_scaler\"\n",
    "scaler = joblib.load(scaler_filename)"
   ]
  },
  {
   "cell_type": "code",
   "execution_count": 21,
   "id": "b3bebd27-1278-41cd-bf7e-402c34a76024",
   "metadata": {},
   "outputs": [],
   "source": [
    "# load the model from disk\n",
    "filename = '../saved_models/logistic_regression_model.sav'\n",
    "loaded_model = pickle.load(open(filename, 'rb'))"
   ]
  },
  {
   "cell_type": "code",
   "execution_count": 22,
   "id": "67a84bff-9811-4775-9f78-19766eedcd69",
   "metadata": {},
   "outputs": [],
   "source": [
    "# Prediction - Based on FE values\n",
    "features_values = np.array([53, 1, 2, 171, 0, 0, 1, 147, 0, 5.3, 3, 3]).reshape(1, -1)"
   ]
  },
  {
   "cell_type": "code",
   "execution_count": 23,
   "id": "0f088a57",
   "metadata": {},
   "outputs": [
    {
     "data": {
      "text/plain": [
       "(1, 12)"
      ]
     },
     "execution_count": 23,
     "metadata": {},
     "output_type": "execute_result"
    }
   ],
   "source": [
    "features_values.shape"
   ]
  },
  {
   "cell_type": "code",
   "execution_count": 25,
   "id": "4b7dbf0a-87da-4c18-a4d0-a049a54c6040",
   "metadata": {},
   "outputs": [
    {
     "name": "stderr",
     "output_type": "stream",
     "text": [
      "C:\\Users\\divya\\anaconda3\\Lib\\site-packages\\sklearn\\base.py:493: UserWarning: X does not have valid feature names, but StandardScaler was fitted with feature names\n",
      "  warnings.warn(\n"
     ]
    },
    {
     "data": {
      "text/plain": [
       "(1, 12)"
      ]
     },
     "execution_count": 25,
     "metadata": {},
     "output_type": "execute_result"
    }
   ],
   "source": [
    "scaled_features_values = scaler.transform(features_values)\n",
    "scaled_features_values.shape"
   ]
  },
  {
   "cell_type": "code",
   "execution_count": 26,
   "id": "f0b9dc3a-f770-4017-9694-25b08c12be5e",
   "metadata": {},
   "outputs": [
    {
     "data": {
      "text/plain": [
       "(1,)"
      ]
     },
     "execution_count": 26,
     "metadata": {},
     "output_type": "execute_result"
    }
   ],
   "source": [
    "fe_model_output = loaded_model.predict(scaled_features_values)\n",
    "fe_model_output.shape"
   ]
  },
  {
   "cell_type": "code",
   "execution_count": 27,
   "id": "7944270d",
   "metadata": {},
   "outputs": [
    {
     "data": {
      "text/plain": [
       "array([1], dtype=int64)"
      ]
     },
     "execution_count": 27,
     "metadata": {},
     "output_type": "execute_result"
    }
   ],
   "source": [
    "fe_model_output"
   ]
  },
  {
   "cell_type": "code",
   "execution_count": 25,
   "id": "3aaa379d",
   "metadata": {},
   "outputs": [
    {
     "data": {
      "text/plain": [
       "(1, 2)"
      ]
     },
     "execution_count": 25,
     "metadata": {},
     "output_type": "execute_result"
    }
   ],
   "source": [
    "fe_model_proba_output = loaded_model.predict_proba(scaled_features_values)\n",
    "fe_model_proba_output.shape"
   ]
  },
  {
   "cell_type": "code",
   "execution_count": 26,
   "id": "fd6197a2",
   "metadata": {},
   "outputs": [
    {
     "data": {
      "text/plain": [
       "array([0.99987987])"
      ]
     },
     "execution_count": 26,
     "metadata": {},
     "output_type": "execute_result"
    }
   ],
   "source": [
    "fe_predict_probability = fe_model_proba_output[:,1]\n",
    "fe_predict_probability"
   ]
  }
 ],
 "metadata": {
  "kernelspec": {
   "display_name": "Python 3 (ipykernel)",
   "language": "python",
   "name": "python3"
  },
  "language_info": {
   "codemirror_mode": {
    "name": "ipython",
    "version": 3
   },
   "file_extension": ".py",
   "mimetype": "text/x-python",
   "name": "python",
   "nbconvert_exporter": "python",
   "pygments_lexer": "ipython3",
   "version": "3.11.5"
  }
 },
 "nbformat": 4,
 "nbformat_minor": 5
}
